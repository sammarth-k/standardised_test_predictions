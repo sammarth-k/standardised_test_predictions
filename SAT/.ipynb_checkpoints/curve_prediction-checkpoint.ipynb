{
 "cells": [
  {
   "cell_type": "markdown",
   "metadata": {},
   "source": [
    "# SAT Curve and Difficulty Prediction\n",
    "\n",
    "Using a K Nearest Neighbors (```KNN```) classifier to generate a predicted curve and test difficulty prediction from all avaialble data.\n",
    "\n",
    "Taking ```k = 3``` we find the closest SAT curves from past curves and fill in the unknown raw - scaled score conversions. Based on the difficulty of the compared curves, it also makes a prediction about the difficulty of the test i.e. was it \"easy\" or \"hard\"\n",
    "\n",
    "It works by comparing available data with past curves and selecting the ```3``` closest curves and using their scaled scores to fill in the conversions unknown i.e. the original input remains intact and the unknown raw - scaled score conversions are predicted using the ```KNN``` classifier"
   ]
  },
  {
   "cell_type": "code",
   "execution_count": 1,
   "metadata": {},
   "outputs": [],
   "source": [
    "import numpy as np\n",
    "from datascience import *\n",
    "import matplotlib.patches as mpatches\n",
    "import matplotlib.pyplot as plt\n",
    "from statistics import mode,median\n",
    "%matplotlib inline"
   ]
  },
  {
   "cell_type": "code",
   "execution_count": 2,
   "metadata": {},
   "outputs": [],
   "source": [
    "# training data\n",
    "math = Table().read_table(\"./data/mathtrain.csv\")\n",
    "reading = Table().read_table(\"./data/readingtrain.csv\")\n",
    "writing = Table().read_table(\"./data/writingtrain.csv\")"
   ]
  },
  {
   "cell_type": "code",
   "execution_count": 3,
   "metadata": {},
   "outputs": [],
   "source": [
    "# funcs\n",
    "\n",
    "# we will use a k nearest neighbors classifier to predict a curve and test difficulty\n",
    "\n",
    "def most_common_score(scores):\n",
    "    \"\"\"Returns most common score\"\"\"\n",
    "    # number of occurences of each score\n",
    "    score_dict = {}\n",
    "    for score in scores:\n",
    "        if score not in score_dict.keys():\n",
    "            score_dict[score] = 1\n",
    "        else:\n",
    "            score_dict[score] += 1\n",
    "    \n",
    "    # if all have the same number of occurences, return the median.\n",
    "    if list(score_dict.values()).count(1) == len(score_dict):\n",
    "        return round(median(scores))\n",
    "    else:\n",
    "        return mode(scores)\n",
    "\n",
    "def distance(array1, array2):\n",
    "    \"\"\"Calculates the distance between to sets of data.\"\"\"\n",
    "    return np.sqrt(sum((array1 - array2)**2))\n",
    "\n",
    "def predicted_curve(table):\n",
    "    \"\"\"Calculates most common score from nearest neighbors.\"\"\"\n",
    "    \n",
    "    curve = []\n",
    "    for i in range(len(table.rows)-1): # length of all rows except last (class row) \n",
    "        options = []\n",
    "        for j in table.columns:\n",
    "            options.append(j[i])\n",
    "        curve.append(mode(options))\n",
    "        \n",
    "    # Prediction whether test was easy, hard or normal\n",
    "    pred = mode(list(table.row(-1)))\n",
    "    if pred == 0:\n",
    "        prediction = \"Easy\"\n",
    "    elif pred == 0.5:\n",
    "        prediction = \"Normal\"\n",
    "    elif pred == 1:\n",
    "        prediction = \"Hard\"\n",
    "        \n",
    "    \n",
    "    return curve, prediction\n",
    "\n",
    "# k = 3 since the training set is small and taking many curves into consideration will give innacurate results\n",
    "def nearest(training, data, k=3):\n",
    "    \"\"\"k nearest neighbors classifier.\"\"\"\n",
    "    \n",
    "    # extracting the raw scores column and then removing it\n",
    "    raw_scores = training.column(0)[:-1]\n",
    "    training = training.drop(0)\n",
    "    \n",
    "    # Comparing distances between scaled scores\n",
    "    distances = []\n",
    "    for t in training.columns:\n",
    "        # for data in training set\n",
    "        training_data = np.array([t[i] for i in range(len(data)) if not np.isnan(data[i])])\n",
    "        \n",
    "        # for input\n",
    "        input_data = np.array([i for i in data if not np.isnan(i)])\n",
    "        \n",
    "        # calculating distance and appending to list\n",
    "        distances.append(distance(training_data, input_data))\n",
    "        \n",
    "    # column indices\n",
    "    indices = np.arange((len(training.columns)))\n",
    "    \n",
    "    # creating table of indices and distances\n",
    "    table = Table().with_columns(\n",
    "        \"Index\", indices,\n",
    "        \"Distance\", distances\n",
    "    )\n",
    "                        \n",
    "    # sorting table by distance\n",
    "    table = table.sort(\"Distance\")\n",
    "    \n",
    "    # indices of columns to compare\n",
    "    to_search = list(table[0][:k])\n",
    "    \n",
    "    curve, difficulty = predicted_curve(training.select(to_search))\n",
    "    \n",
    "    # substituting known values\n",
    "    substituted = [data[i] if str(data[i]) != \"nan\" else curve[i] for i in range(len(curve))]\n",
    "            \n",
    "    return Table().with_columns(\"Raw Score\",raw_scores, \"Scaled Score\", substituted), difficulty"
   ]
  },
  {
   "cell_type": "code",
   "execution_count": 4,
   "metadata": {},
   "outputs": [
    {
     "name": "stdout",
     "output_type": "stream",
     "text": [
      "Test Difficulty: Normal\n"
     ]
    },
    {
     "data": {
      "text/html": [
       "<table border=\"1\" class=\"dataframe\">\n",
       "    <thead>\n",
       "        <tr>\n",
       "            <th>Raw Score</th> <th>Scaled Score</th>\n",
       "        </tr>\n",
       "    </thead>\n",
       "    <tbody>\n",
       "        <tr>\n",
       "            <td>52       </td> <td>40          </td>\n",
       "        </tr>\n",
       "        <tr>\n",
       "            <td>51       </td> <td>38          </td>\n",
       "        </tr>\n",
       "        <tr>\n",
       "            <td>50       </td> <td>37          </td>\n",
       "        </tr>\n",
       "        <tr>\n",
       "            <td>49       </td> <td>36          </td>\n",
       "        </tr>\n",
       "        <tr>\n",
       "            <td>48       </td> <td>35          </td>\n",
       "        </tr>\n",
       "        <tr>\n",
       "            <td>47       </td> <td>34          </td>\n",
       "        </tr>\n",
       "        <tr>\n",
       "            <td>46       </td> <td>33          </td>\n",
       "        </tr>\n",
       "        <tr>\n",
       "            <td>45       </td> <td>33          </td>\n",
       "        </tr>\n",
       "        <tr>\n",
       "            <td>44       </td> <td>32          </td>\n",
       "        </tr>\n",
       "        <tr>\n",
       "            <td>43       </td> <td>32          </td>\n",
       "        </tr>\n",
       "    </tbody>\n",
       "</table>\n",
       "<p>... (43 rows omitted)</p>"
      ],
      "text/plain": [
       "Raw Score | Scaled Score\n",
       "52        | 40\n",
       "51        | 38\n",
       "50        | 37\n",
       "49        | 36\n",
       "48        | 35\n",
       "47        | 34\n",
       "46        | 33\n",
       "45        | 33\n",
       "44        | 32\n",
       "43        | 32\n",
       "... (43 rows omitted)"
      ]
     },
     "execution_count": 4,
     "metadata": {},
     "output_type": "execute_result"
    }
   ],
   "source": [
    "# May 2019 International Reading Curve and Difficulty Prediction from Partial Scoring\n",
    "readingtest = Table().read_table(\"./data/readingtest.csv\").columns[-1][:-1]\n",
    "curve, difficulty = nearest(reading,readingtest)\n",
    "curve.to_csv(\"./output/May_2019_Int_Predicted_Reading.csv\")\n",
    "print(\"Test Difficulty:\", difficulty)\n",
    "curve"
   ]
  },
  {
   "cell_type": "code",
   "execution_count": 5,
   "metadata": {},
   "outputs": [
    {
     "name": "stdout",
     "output_type": "stream",
     "text": [
      "Test Difficulty: Easy\n"
     ]
    },
    {
     "data": {
      "text/html": [
       "<table border=\"1\" class=\"dataframe\">\n",
       "    <thead>\n",
       "        <tr>\n",
       "            <th>Raw Score</th> <th>Scaled Score</th>\n",
       "        </tr>\n",
       "    </thead>\n",
       "    <tbody>\n",
       "        <tr>\n",
       "            <td>44       </td> <td>40          </td>\n",
       "        </tr>\n",
       "        <tr>\n",
       "            <td>43       </td> <td>36          </td>\n",
       "        </tr>\n",
       "        <tr>\n",
       "            <td>42       </td> <td>35          </td>\n",
       "        </tr>\n",
       "        <tr>\n",
       "            <td>41       </td> <td>34          </td>\n",
       "        </tr>\n",
       "        <tr>\n",
       "            <td>40       </td> <td>33          </td>\n",
       "        </tr>\n",
       "        <tr>\n",
       "            <td>39       </td> <td>32          </td>\n",
       "        </tr>\n",
       "        <tr>\n",
       "            <td>38       </td> <td>31          </td>\n",
       "        </tr>\n",
       "        <tr>\n",
       "            <td>37       </td> <td>30          </td>\n",
       "        </tr>\n",
       "        <tr>\n",
       "            <td>36       </td> <td>29          </td>\n",
       "        </tr>\n",
       "        <tr>\n",
       "            <td>35       </td> <td>29          </td>\n",
       "        </tr>\n",
       "    </tbody>\n",
       "</table>\n",
       "<p>... (35 rows omitted)</p>"
      ],
      "text/plain": [
       "Raw Score | Scaled Score\n",
       "44        | 40\n",
       "43        | 36\n",
       "42        | 35\n",
       "41        | 34\n",
       "40        | 33\n",
       "39        | 32\n",
       "38        | 31\n",
       "37        | 30\n",
       "36        | 29\n",
       "35        | 29\n",
       "... (35 rows omitted)"
      ]
     },
     "execution_count": 5,
     "metadata": {},
     "output_type": "execute_result"
    }
   ],
   "source": [
    "# May 2019 International Writing Curve and Difficulty Prediction from Partial Scoring\n",
    "writingtest = Table().read_table(\"./data/writingtest.csv\").columns[-1][:-1]\n",
    "curve, difficulty = nearest(writing,writingtest)\n",
    "curve.to_csv(\"./output/May_2019_Int_Predicted_Writing.csv\")\n",
    "print(\"Test Difficulty:\", difficulty)\n",
    "curve"
   ]
  },
  {
   "cell_type": "code",
   "execution_count": 6,
   "metadata": {},
   "outputs": [
    {
     "name": "stdout",
     "output_type": "stream",
     "text": [
      "Test Difficulty: Easy\n"
     ]
    },
    {
     "data": {
      "text/html": [
       "<table border=\"1\" class=\"dataframe\">\n",
       "    <thead>\n",
       "        <tr>\n",
       "            <th>Raw Score</th> <th>Scaled Score</th>\n",
       "        </tr>\n",
       "    </thead>\n",
       "    <tbody>\n",
       "        <tr>\n",
       "            <td>58       </td> <td>800         </td>\n",
       "        </tr>\n",
       "        <tr>\n",
       "            <td>57       </td> <td>770         </td>\n",
       "        </tr>\n",
       "        <tr>\n",
       "            <td>56       </td> <td>750         </td>\n",
       "        </tr>\n",
       "        <tr>\n",
       "            <td>55       </td> <td>730         </td>\n",
       "        </tr>\n",
       "        <tr>\n",
       "            <td>54       </td> <td>710         </td>\n",
       "        </tr>\n",
       "        <tr>\n",
       "            <td>53       </td> <td>700         </td>\n",
       "        </tr>\n",
       "        <tr>\n",
       "            <td>52       </td> <td>680         </td>\n",
       "        </tr>\n",
       "        <tr>\n",
       "            <td>51       </td> <td>670         </td>\n",
       "        </tr>\n",
       "        <tr>\n",
       "            <td>50       </td> <td>670         </td>\n",
       "        </tr>\n",
       "        <tr>\n",
       "            <td>49       </td> <td>670         </td>\n",
       "        </tr>\n",
       "    </tbody>\n",
       "</table>\n",
       "<p>... (49 rows omitted)</p>"
      ],
      "text/plain": [
       "Raw Score | Scaled Score\n",
       "58        | 800\n",
       "57        | 770\n",
       "56        | 750\n",
       "55        | 730\n",
       "54        | 710\n",
       "53        | 700\n",
       "52        | 680\n",
       "51        | 670\n",
       "50        | 670\n",
       "49        | 670\n",
       "... (49 rows omitted)"
      ]
     },
     "execution_count": 6,
     "metadata": {},
     "output_type": "execute_result"
    }
   ],
   "source": [
    "# May 2019 International Math Curve and Difficulty Prediction from Partial Scoring\n",
    "mathtest = Table().read_table(\"./data/mathtest.csv\").columns[-1][:-1]\n",
    "curve, difficulty = nearest(math,mathtest)\n",
    "curve.to_csv(\"./output/May_2019_Int_Predicted_Math.csv\")\n",
    "print(\"Test Difficulty:\", difficulty)\n",
    "curve"
   ]
  },
  {
   "cell_type": "markdown",
   "metadata": {},
   "source": [
    "# April 13 School Day Predictions"
   ]
  },
  {
   "cell_type": "code",
   "execution_count": 7,
   "metadata": {},
   "outputs": [],
   "source": [
    "curves = Table().read_table(\"./data/ap13.csv\")\n",
    "mathtest= curves.column(1)\n",
    "readingtest = curves.column(2)\n",
    "writingtest = curves.column(3)"
   ]
  },
  {
   "cell_type": "code",
   "execution_count": 8,
   "metadata": {},
   "outputs": [
    {
     "name": "stdout",
     "output_type": "stream",
     "text": [
      "Test Difficulty: Normal\n"
     ]
    },
    {
     "data": {
      "text/html": [
       "<table border=\"1\" class=\"dataframe\">\n",
       "    <thead>\n",
       "        <tr>\n",
       "            <th>Raw Score</th> <th>Scaled Score</th>\n",
       "        </tr>\n",
       "    </thead>\n",
       "    <tbody>\n",
       "        <tr>\n",
       "            <td>58       </td> <td>800         </td>\n",
       "        </tr>\n",
       "        <tr>\n",
       "            <td>57       </td> <td>790         </td>\n",
       "        </tr>\n",
       "        <tr>\n",
       "            <td>56       </td> <td>780         </td>\n",
       "        </tr>\n",
       "        <tr>\n",
       "            <td>55       </td> <td>770         </td>\n",
       "        </tr>\n",
       "        <tr>\n",
       "            <td>54       </td> <td>750         </td>\n",
       "        </tr>\n",
       "        <tr>\n",
       "            <td>53       </td> <td>730         </td>\n",
       "        </tr>\n",
       "        <tr>\n",
       "            <td>52       </td> <td>720         </td>\n",
       "        </tr>\n",
       "        <tr>\n",
       "            <td>51       </td> <td>700         </td>\n",
       "        </tr>\n",
       "        <tr>\n",
       "            <td>50       </td> <td>690         </td>\n",
       "        </tr>\n",
       "        <tr>\n",
       "            <td>49       </td> <td>690         </td>\n",
       "        </tr>\n",
       "    </tbody>\n",
       "</table>\n",
       "<p>... (49 rows omitted)</p>"
      ],
      "text/plain": [
       "Raw Score | Scaled Score\n",
       "58        | 800\n",
       "57        | 790\n",
       "56        | 780\n",
       "55        | 770\n",
       "54        | 750\n",
       "53        | 730\n",
       "52        | 720\n",
       "51        | 700\n",
       "50        | 690\n",
       "49        | 690\n",
       "... (49 rows omitted)"
      ]
     },
     "execution_count": 8,
     "metadata": {},
     "output_type": "execute_result"
    }
   ],
   "source": [
    "curve, difficulty = nearest(math, mathtest)\n",
    "curve.to_csv(\"./output/april_13_2021/math_pred.csv\")\n",
    "print(\"Test Difficulty:\", difficulty)\n",
    "curve"
   ]
  },
  {
   "cell_type": "code",
   "execution_count": 9,
   "metadata": {},
   "outputs": [
    {
     "name": "stdout",
     "output_type": "stream",
     "text": [
      "Test Difficulty: Normal\n"
     ]
    },
    {
     "data": {
      "text/html": [
       "<table border=\"1\" class=\"dataframe\">\n",
       "    <thead>\n",
       "        <tr>\n",
       "            <th>Raw Score</th> <th>Scaled Score</th>\n",
       "        </tr>\n",
       "    </thead>\n",
       "    <tbody>\n",
       "        <tr>\n",
       "            <td>52       </td> <td>40          </td>\n",
       "        </tr>\n",
       "        <tr>\n",
       "            <td>51       </td> <td>39          </td>\n",
       "        </tr>\n",
       "        <tr>\n",
       "            <td>50       </td> <td>39          </td>\n",
       "        </tr>\n",
       "        <tr>\n",
       "            <td>49       </td> <td>38          </td>\n",
       "        </tr>\n",
       "        <tr>\n",
       "            <td>48       </td> <td>37          </td>\n",
       "        </tr>\n",
       "        <tr>\n",
       "            <td>47       </td> <td>36          </td>\n",
       "        </tr>\n",
       "        <tr>\n",
       "            <td>46       </td> <td>36          </td>\n",
       "        </tr>\n",
       "        <tr>\n",
       "            <td>45       </td> <td>35          </td>\n",
       "        </tr>\n",
       "        <tr>\n",
       "            <td>44       </td> <td>34          </td>\n",
       "        </tr>\n",
       "        <tr>\n",
       "            <td>43       </td> <td>34          </td>\n",
       "        </tr>\n",
       "    </tbody>\n",
       "</table>\n",
       "<p>... (43 rows omitted)</p>"
      ],
      "text/plain": [
       "Raw Score | Scaled Score\n",
       "52        | 40\n",
       "51        | 39\n",
       "50        | 39\n",
       "49        | 38\n",
       "48        | 37\n",
       "47        | 36\n",
       "46        | 36\n",
       "45        | 35\n",
       "44        | 34\n",
       "43        | 34\n",
       "... (43 rows omitted)"
      ]
     },
     "execution_count": 9,
     "metadata": {},
     "output_type": "execute_result"
    }
   ],
   "source": [
    "curve, difficulty = nearest(reading, readingtest)\n",
    "curve.to_csv(\"./output/april_13_2021/reading_pred.csv\")\n",
    "print(\"Test Difficulty:\", difficulty)\n",
    "curve"
   ]
  },
  {
   "cell_type": "code",
   "execution_count": 10,
   "metadata": {},
   "outputs": [
    {
     "name": "stdout",
     "output_type": "stream",
     "text": [
      "Test Difficulty: Easy\n"
     ]
    },
    {
     "data": {
      "text/html": [
       "<table border=\"1\" class=\"dataframe\">\n",
       "    <thead>\n",
       "        <tr>\n",
       "            <th>Raw Score</th> <th>Scaled Score</th>\n",
       "        </tr>\n",
       "    </thead>\n",
       "    <tbody>\n",
       "        <tr>\n",
       "            <td>44       </td> <td>40          </td>\n",
       "        </tr>\n",
       "        <tr>\n",
       "            <td>43       </td> <td>39          </td>\n",
       "        </tr>\n",
       "        <tr>\n",
       "            <td>42       </td> <td>37          </td>\n",
       "        </tr>\n",
       "        <tr>\n",
       "            <td>41       </td> <td>36          </td>\n",
       "        </tr>\n",
       "        <tr>\n",
       "            <td>40       </td> <td>35          </td>\n",
       "        </tr>\n",
       "        <tr>\n",
       "            <td>39       </td> <td>35          </td>\n",
       "        </tr>\n",
       "        <tr>\n",
       "            <td>38       </td> <td>34          </td>\n",
       "        </tr>\n",
       "        <tr>\n",
       "            <td>37       </td> <td>33          </td>\n",
       "        </tr>\n",
       "        <tr>\n",
       "            <td>36       </td> <td>33          </td>\n",
       "        </tr>\n",
       "        <tr>\n",
       "            <td>35       </td> <td>32          </td>\n",
       "        </tr>\n",
       "    </tbody>\n",
       "</table>\n",
       "<p>... (35 rows omitted)</p>"
      ],
      "text/plain": [
       "Raw Score | Scaled Score\n",
       "44        | 40\n",
       "43        | 39\n",
       "42        | 37\n",
       "41        | 36\n",
       "40        | 35\n",
       "39        | 35\n",
       "38        | 34\n",
       "37        | 33\n",
       "36        | 33\n",
       "35        | 32\n",
       "... (35 rows omitted)"
      ]
     },
     "execution_count": 10,
     "metadata": {},
     "output_type": "execute_result"
    }
   ],
   "source": [
    "curve, difficulty = nearest(writing, writingtest)\n",
    "curve.to_csv(\"./output/april_13_2021/writing_pred.csv\")\n",
    "print(\"Test Difficulty:\", difficulty)\n",
    "curve"
   ]
  }
 ],
 "metadata": {
  "kernelspec": {
   "display_name": "Python 3.8.6 64-bit",
   "language": "python",
   "name": "python38664bit6c4c5882d4f642e9ae1ceac80ed875d8"
  },
  "language_info": {
   "codemirror_mode": {
    "name": "ipython",
    "version": 3
   },
   "file_extension": ".py",
   "mimetype": "text/x-python",
   "name": "python",
   "nbconvert_exporter": "python",
   "pygments_lexer": "ipython3",
   "version": "3.9.5"
  }
 },
 "nbformat": 4,
 "nbformat_minor": 4
}
